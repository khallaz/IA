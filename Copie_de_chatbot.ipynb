{
  "nbformat": 4,
  "nbformat_minor": 0,
  "metadata": {
    "colab": {
      "name": "Copie de chatbot.ipynb",
      "provenance": [],
      "collapsed_sections": [],
      "include_colab_link": true
    },
    "kernelspec": {
      "name": "python3",
      "display_name": "Python 3"
    }
  },
  "cells": [
    {
      "cell_type": "markdown",
      "metadata": {
        "id": "view-in-github",
        "colab_type": "text"
      },
      "source": [
        "<a href=\"https://colab.research.google.com/github/khallaz/IA/blob/master/Copie_de_chatbot.ipynb\" target=\"_parent\"><img src=\"https://colab.research.google.com/assets/colab-badge.svg\" alt=\"Open In Colab\"/></a>"
      ]
    },
    {
      "cell_type": "markdown",
      "metadata": {
        "id": "YSdzO37X9hEA",
        "colab_type": "text"
      },
      "source": [
        "this code comes from : https://medium.com/analytics-vidhya/building-a-simple-chatbot-in-python-using-nltk-7c8c8215ac6e"
      ]
    },
    {
      "cell_type": "code",
      "metadata": {
        "id": "-Udx83I4eOW0",
        "colab_type": "code",
        "colab": {
          "base_uri": "https://localhost:8080/",
          "height": 54
        },
        "outputId": "b04654bb-25b3-4483-e601-d1ae6296ef9e"
      },
      "source": [
        "from google.colab import drive\n",
        "drive.mount('/content/drive')"
      ],
      "execution_count": 108,
      "outputs": [
        {
          "output_type": "stream",
          "text": [
            "Drive already mounted at /content/drive; to attempt to forcibly remount, call drive.mount(\"/content/drive\", force_remount=True).\n"
          ],
          "name": "stdout"
        }
      ]
    },
    {
      "cell_type": "code",
      "metadata": {
        "id": "WYsRDfw2vlK6",
        "colab_type": "code",
        "colab": {
          "base_uri": "https://localhost:8080/",
          "height": 51
        },
        "outputId": "e5ad05b2-31dc-4249-a052-f2dcfde32de6"
      },
      "source": [
        "pip install nltk"
      ],
      "execution_count": 109,
      "outputs": [
        {
          "output_type": "stream",
          "text": [
            "Requirement already satisfied: nltk in /usr/local/lib/python3.6/dist-packages (3.2.5)\n",
            "Requirement already satisfied: six in /usr/local/lib/python3.6/dist-packages (from nltk) (1.12.0)\n"
          ],
          "name": "stdout"
        }
      ]
    },
    {
      "cell_type": "code",
      "metadata": {
        "id": "1A9x0chTvpPT",
        "colab_type": "code",
        "colab": {}
      },
      "source": [
        "import nltk"
      ],
      "execution_count": 110,
      "outputs": []
    },
    {
      "cell_type": "code",
      "metadata": {
        "id": "z5oNeCCXDn-0",
        "colab_type": "code",
        "colab": {}
      },
      "source": [
        "import warnings"
      ],
      "execution_count": 111,
      "outputs": []
    },
    {
      "cell_type": "code",
      "metadata": {
        "id": "U4EcqvAFxtEB",
        "colab_type": "code",
        "colab": {
          "base_uri": "https://localhost:8080/",
          "height": 119
        },
        "outputId": "81124c3e-2a09-4a9b-9ba5-06895e36d4d6"
      },
      "source": [
        "nltk.download()"
      ],
      "execution_count": 112,
      "outputs": [
        {
          "output_type": "stream",
          "text": [
            "NLTK Downloader\n",
            "---------------------------------------------------------------------------\n",
            "    d) Download   l) List    u) Update   c) Config   h) Help   q) Quit\n",
            "---------------------------------------------------------------------------\n",
            "Downloader> q\n"
          ],
          "name": "stdout"
        },
        {
          "output_type": "execute_result",
          "data": {
            "text/plain": [
              "True"
            ]
          },
          "metadata": {
            "tags": []
          },
          "execution_count": 112
        }
      ]
    },
    {
      "cell_type": "code",
      "metadata": {
        "id": "zsOMN8PJxxko",
        "colab_type": "code",
        "colab": {}
      },
      "source": [
        "import numpy as np\n",
        "import random\n",
        "import string # to process standard python strings"
      ],
      "execution_count": 113,
      "outputs": []
    },
    {
      "cell_type": "code",
      "metadata": {
        "id": "5kr5NnEix4_t",
        "colab_type": "code",
        "colab": {
          "base_uri": "https://localhost:8080/",
          "height": 85
        },
        "outputId": "cab57972-6f72-44b9-9ac5-fcf22b472cae"
      },
      "source": [
        "f=open('/content/drive/My Drive/IA/chatbot.txt','r',errors = 'ignore')\n",
        "raw=f.read()\n",
        "raw=raw.lower()# converts to lowercase\n",
        "nltk.download('punkt') # first-time use only\n",
        "nltk.download('wordnet') # first-time use only\n",
        "sent_tokens = nltk.sent_tokenize(raw)# converts to list of sentences \n",
        "word_tokens = nltk.word_tokenize(raw)# converts to list of words"
      ],
      "execution_count": 114,
      "outputs": [
        {
          "output_type": "stream",
          "text": [
            "[nltk_data] Downloading package punkt to /root/nltk_data...\n",
            "[nltk_data]   Package punkt is already up-to-date!\n",
            "[nltk_data] Downloading package wordnet to /root/nltk_data...\n",
            "[nltk_data]   Package wordnet is already up-to-date!\n"
          ],
          "name": "stdout"
        }
      ]
    },
    {
      "cell_type": "code",
      "metadata": {
        "id": "Qp0bgHzgDjYI",
        "colab_type": "code",
        "colab": {}
      },
      "source": [
        "#colour palet\n",
        "def prRed(skk): print(\"\\033[91m {}\\033[00m\" .format(skk)) \n",
        "def prGreen(skk): print(\"\\033[92m {}\\033[00m\" .format(skk)) \n",
        "def prYellow(skk): print(\"\\033[93m {}\\033[00m\" .format(skk)) \n",
        "def prLightPurple(skk): print(\"\\033[94m {}\\033[00m\" .format(skk)) \n",
        "def prPurple(skk): print(\"\\033[95m {}\\033[00m\" .format(skk)) \n",
        "def prCyan(skk): print(\"\\033[96m {}\\033[00m\" .format(skk)) \n",
        "def prLightGray(skk): print(\"\\033[97m {}\\033[00m\" .format(skk)) \n",
        "def prBlack(skk): print(\"\\033[98m {}\\033[00m\" .format(skk))"
      ],
      "execution_count": 115,
      "outputs": []
    },
    {
      "cell_type": "code",
      "metadata": {
        "id": "6PqAWiwAx-WK",
        "colab_type": "code",
        "colab": {
          "base_uri": "https://localhost:8080/",
          "height": 34
        },
        "outputId": "fad084f3-6d78-4380-c0c0-13a40285bb1e"
      },
      "source": [
        "sent_tokens[:2]\n",
        "['a chatbot (also known as a talkbot, chatterbot, bot, im bot, interactive agent, or artificial conversational entity) is a computer program or an artificial intelligence which conducts a conversation via auditory or textual methods.',\n",
        " 'such programs are often designed to convincingly simulate how a human would behave as a conversational partner, thereby passing the turing test.']\n",
        "word_tokens[:2]\n",
        "['a', 'chatbot', '(', 'also', 'known']"
      ],
      "execution_count": 116,
      "outputs": [
        {
          "output_type": "execute_result",
          "data": {
            "text/plain": [
              "['a', 'chatbot', '(', 'also', 'known']"
            ]
          },
          "metadata": {
            "tags": []
          },
          "execution_count": 116
        }
      ]
    },
    {
      "cell_type": "code",
      "metadata": {
        "id": "lndaVwOuyTKO",
        "colab_type": "code",
        "colab": {}
      },
      "source": [
        "lemmer = nltk.stem.WordNetLemmatizer()\n",
        "#WordNet is a semantically-oriented dictionary of English included in NLTK.\n",
        "def LemTokens(tokens):\n",
        "    return [lemmer.lemmatize(token) for token in tokens]\n",
        "remove_punct_dict = dict((ord(punct), None) for punct in string.punctuation)\n",
        "def LemNormalize(text):\n",
        "    return LemTokens(nltk.word_tokenize(text.lower().translate(remove_punct_dict)))"
      ],
      "execution_count": 117,
      "outputs": []
    },
    {
      "cell_type": "code",
      "metadata": {
        "id": "AehrRoI2ybfW",
        "colab_type": "code",
        "colab": {}
      },
      "source": [
        "GREETING_INPUTS = (\"hello\", \"hi\", \"greetings\", \"sup\", \"what's up\",\"hey\",)\n",
        "GREETING_RESPONSES = [\"hi\", \"hey\", \"*nods*\", \"hi there\", \"hello\", \"I am glad! You are talking to me\"]\n",
        "def greeting(sentence):\n",
        " \n",
        "    for word in sentence.split():\n",
        "        if word.lower() in GREETING_INPUTS:\n",
        "            return random.choice(GREETING_RESPONSES)"
      ],
      "execution_count": 118,
      "outputs": []
    },
    {
      "cell_type": "code",
      "metadata": {
        "id": "QF7JtpAfywqf",
        "colab_type": "code",
        "colab": {}
      },
      "source": [
        "from sklearn.feature_extraction.text import TfidfVectorizer"
      ],
      "execution_count": 119,
      "outputs": []
    },
    {
      "cell_type": "code",
      "metadata": {
        "id": "lhMkYYV4y_88",
        "colab_type": "code",
        "colab": {}
      },
      "source": [
        "from sklearn.metrics.pairwise import cosine_similarity"
      ],
      "execution_count": 120,
      "outputs": []
    },
    {
      "cell_type": "code",
      "metadata": {
        "id": "ScmjNtzXzH_B",
        "colab_type": "code",
        "colab": {}
      },
      "source": [
        "def response(user_response):\n",
        "    robo_response=''\n",
        "    sent_tokens.append(user_response)\n",
        "    TfidfVec = TfidfVectorizer(tokenizer=LemNormalize, stop_words='english')\n",
        "    tfidf = TfidfVec.fit_transform(sent_tokens)\n",
        "    vals = cosine_similarity(tfidf[-1], tfidf)\n",
        "    idx=vals.argsort()[0][-2]\n",
        "    flat = vals.flatten()\n",
        "    flat.sort()\n",
        "    req_tfidf = flat[-2]\n",
        "    if(req_tfidf==0):\n",
        "        robo_response=robo_response+\"I am sorry! I don't understand you\"\n",
        "        return robo_response\n",
        "    else:\n",
        "        robo_response = robo_response+sent_tokens[idx]\n",
        "        return robo_response"
      ],
      "execution_count": 121,
      "outputs": []
    },
    {
      "cell_type": "code",
      "metadata": {
        "id": "EQ5Cbx8Pza7p",
        "colab_type": "code",
        "colab": {
          "base_uri": "https://localhost:8080/",
          "height": 289
        },
        "outputId": "18aff40f-fcae-4599-bddb-b38eb465f7dd"
      },
      "source": [
        "flag=True\n",
        "warnings.filterwarnings('ignore')\n",
        "print(\"\\033[91m {}\\033[00m\" .format(\"Doywar: \"), \"\\033[95m {}\\033[00m\" .format(\"My name is Doywar. I will answer your queries about Chatbots. If you want to exit, type Bye!\"))\n",
        "while(flag==True):\n",
        "    user_response = input()\n",
        "    user_response=user_response.lower()\n",
        "    try:\n",
        "        print(\"\\033[92m {}\\033[00m\" .format(\"Team Saytou : \"),\"\\033[96m {}\\033[00m\" .format(user_response))\n",
        "    except sr.UnknownValueError:\n",
        "        prRed(\"Oops! Didn't catch that\")\n",
        "        pass\n",
        "    if(user_response!='bye'):\n",
        "        if(user_response=='thanks' or user_response=='thank you' ):\n",
        "            flag=False\n",
        "            prRed(\"Doywar: You are welcome..\")\n",
        "        else:\n",
        "            if(greeting(user_response)!=None):\n",
        "                print(\"\\033[91m {}\\033[00m\" .format(\"Doywar: \"),\"\\033[95m {}\\033[00m\" .format(greeting(user_response)))\n",
        "               #prRed(\"Doywar: \"+greeting(user_response))\n",
        "            else:\n",
        "                print(\"\\033[91m {}\\033[00m\" .format(\"Doywar: \"),\"\\033[95m {}\\033[00m\" .format(response(user_response)))\n",
        "                #prRed(response(user_response))\n",
        "                sent_tokens.remove(user_response)\n",
        "    else:\n",
        "        flag=False\n",
        "        prRed(\"Doywar: Bye! take care..\")\n"
      ],
      "execution_count": 123,
      "outputs": [
        {
          "output_type": "stream",
          "text": [
            "\u001b[91m Doywar: \u001b[00m \u001b[95m My name is Doywar. I will answer your queries about Chatbots. If you want to exit, type Bye!\u001b[00m\n",
            "hello\n",
            "\u001b[92m Team Saytou : \u001b[00m \u001b[96m hello\u001b[00m\n",
            "\u001b[91m Doywar: \u001b[00m \u001b[95m hi there\u001b[00m\n",
            "hey\n",
            "\u001b[92m Team Saytou : \u001b[00m \u001b[96m hey\u001b[00m\n",
            "\u001b[91m Doywar: \u001b[00m \u001b[95m hi there\u001b[00m\n",
            "what is a Doywar?\n",
            "\u001b[92m Team Saytou : \u001b[00m \u001b[96m what is a doywar?\u001b[00m\n",
            "\u001b[91m Doywar: \u001b[00m \u001b[95m a doywar is a device that combines mechanics, electronics and it, it has a skeleton with one or more limbs and a computer that acts as a brain.\u001b[00m\n",
            "what is a computer?\n",
            "\u001b[92m Team Saytou : \u001b[00m \u001b[96m what is a computer?\u001b[00m\n",
            "\u001b[91m Doywar: \u001b[00m \u001b[95m this term may as well be used for a group of computers that are connected and work together, in particular a computer network or computer cluster.\u001b[00m\n",
            "bye\n",
            "\u001b[92m Team Saytou : \u001b[00m \u001b[96m bye\u001b[00m\n",
            "\u001b[91m Doywar: Bye! take care..\u001b[00m\n"
          ],
          "name": "stdout"
        }
      ]
    }
  ]
}